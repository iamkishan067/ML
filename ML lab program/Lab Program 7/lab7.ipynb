{
 "cells": [
  {
   "cell_type": "code",
   "execution_count": 2,
   "id": "7ae8b5fb",
   "metadata": {},
   "outputs": [
    {
     "name": "stdout",
     "output_type": "stream",
     "text": [
      "Some of the instances of data set : \n",
      "\n",
      "   age  sex  cp  trestbps  chol  fbs  restecg  thalach  exang  oldpeak  slope  \\\n",
      "0   63    1   1       145   233    1        2      150      0      2.3      3   \n",
      "1   67    1   4       160   286    0        2      108      1      1.5      2   \n",
      "2   67    1   4       120   229    0        2      129      1      2.6      2   \n",
      "3   37    1   3       130   250    0        0      187      0      3.5      3   \n",
      "4   41    0   2       130   204    0        2      172      0      1.4      1   \n",
      "\n",
      "  ca thal  heartdisease  \n",
      "0  0    6             0  \n",
      "1  3    3             2  \n",
      "2  2    7             1  \n",
      "3  0    3             0  \n",
      "4  0    3             0  \n",
      "Attributes and their data types : \n",
      "\n",
      "age               int64\n",
      "sex               int64\n",
      "cp                int64\n",
      "trestbps          int64\n",
      "chol              int64\n",
      "fbs               int64\n",
      "restecg           int64\n",
      "thalach           int64\n",
      "exang             int64\n",
      "oldpeak         float64\n",
      "slope             int64\n",
      "ca               object\n",
      "thal             object\n",
      "heartdisease      int64\n",
      "dtype: object\n"
     ]
    },
    {
     "data": {
      "image/png": "[encoded data removed]",
      "text/plain": [
       "<Figure size 432x288 with 1 Axes>"
      ]
     },
     "metadata": {},
     "output_type": "display_data"
    },
    {
     "name": "stderr",
     "output_type": "stream",
     "text": [
      "Finding Elimination Order: :   0%|                                                               | 0/4 [00:00<?, ?it/s]\n",
      "  0%|                                                                                            | 0/4 [00:00<?, ?it/s]\u001b[A\n",
      "Finding Elimination Order: : 100%|██████████████████████████████████████████████████████| 4/4 [00:00<00:00, 100.26it/s]\u001b[A"
     ]
    },
    {
     "name": "stdout",
     "output_type": "stream",
     "text": [
      "kishan\n",
      "Probability of heartdisease with evidence restecg : 1\n"
     ]
    },
    {
     "name": "stderr",
     "output_type": "stream",
     "text": [
      "\n",
      "\n",
      "Eliminating: cp:  25%|████████████████▊                                                  | 1/4 [00:00<00:00,  5.13it/s]\u001b[A\n",
      "Eliminating: age:  25%|████████████████▌                                                 | 1/4 [00:00<00:00,  5.13it/s]\u001b[A\n",
      "Eliminating: exang:  25%|████████████████                                                | 1/4 [00:00<00:00,  5.13it/s]\u001b[A\n",
      "Eliminating: sex: 100%|██████████████████████████████████████████████████████████████████| 4/4 [00:00<00:00, 16.69it/s]\u001b[A\n"
     ]
    },
    {
     "name": "stdout",
     "output_type": "stream",
     "text": [
      "+-----------------+---------------------+\n",
      "| heartdisease    |   phi(heartdisease) |\n",
      "+=================+=====================+\n",
      "| heartdisease(0) |              0.1012 |\n",
      "+-----------------+---------------------+\n",
      "| heartdisease(1) |              0.0000 |\n",
      "+-----------------+---------------------+\n",
      "| heartdisease(2) |              0.2392 |\n",
      "+-----------------+---------------------+\n",
      "| heartdisease(3) |              0.2015 |\n",
      "+-----------------+---------------------+\n",
      "| heartdisease(4) |              0.4581 |\n",
      "+-----------------+---------------------+\n",
      "Probability of heartdisease with evidence cp : 2\n"
     ]
    },
    {
     "name": "stderr",
     "output_type": "stream",
     "text": [
      "Finding Elimination Order: :   0%|                                                               | 0/3 [00:00<?, ?it/s]\n",
      "  0%|                                                                                            | 0/3 [00:00<?, ?it/s]\u001b[A\n",
      "Eliminating: age:   0%|                                                                          | 0/3 [00:00<?, ?it/s]\u001b[A\n",
      "Eliminating: exang:   0%|                                                                        | 0/3 [00:00<?, ?it/s]\u001b[A\n",
      "Eliminating: sex: 100%|██████████████████████████████████████████████████████████████████| 3/3 [00:00<00:00, 51.85it/s]\u001b[A"
     ]
    },
    {
     "name": "stdout",
     "output_type": "stream",
     "text": [
      "+-----------------+---------------------+\n",
      "| heartdisease    |   phi(heartdisease) |\n",
      "+=================+=====================+\n",
      "| heartdisease(0) |              0.3610 |\n",
      "+-----------------+---------------------+\n",
      "| heartdisease(1) |              0.2159 |\n",
      "+-----------------+---------------------+\n",
      "| heartdisease(2) |              0.1373 |\n",
      "+-----------------+---------------------+\n",
      "| heartdisease(3) |              0.1537 |\n",
      "+-----------------+---------------------+\n",
      "| heartdisease(4) |              0.1321 |\n",
      "+-----------------+---------------------+\n"
     ]
    },
    {
     "name": "stderr",
     "output_type": "stream",
     "text": [
      "\n"
     ]
    }
   ],
   "source": [
    "import pandas as pd\n",
    "import numpy as np\n",
    "\n",
    "df = pd.read_csv(\"lab7_data.csv\")\n",
    "df = df.replace('?', np.nan)\n",
    "\n",
    "print(\"Some of the instances of data set : \\n\")\n",
    "print(df.head())\n",
    "\n",
    "print(\"Attributes and their data types : \\n\")\n",
    "print(df.dtypes)\n",
    "\n",
    "from pgmpy.models import BayesianModel\n",
    "from pgmpy.estimators import MaximumLikelihoodEstimator \n",
    "from pgmpy.inference import VariableElimination\n",
    "\n",
    "\n",
    "model = BayesianModel([('age', 'heartdisease'), ('sex', 'heartdisease'), ('exang', 'heartdisease'), \n",
    "                       ('cp', 'heartdisease'), ('heartdisease', 'restecg'), ('heartdisease', 'chol')])\n",
    "\n",
    "\n",
    "import networkx as nx\n",
    "import matplotlib.pyplot as plt\n",
    "nx.draw(model, with_labels = True);\n",
    "plt.show()\n",
    "\n",
    "model.fit(df, estimator = MaximumLikelihoodEstimator)\n",
    "\n",
    "infer = VariableElimination(model)\n",
    "\n",
    "print(\"kishan\")\n",
    "\n",
    "print(\"Probability of heartdisease with evidence restecg : 1\")\n",
    "q1 = infer.query(variables = ['heartdisease'], evidence = {'restecg' : 1})\n",
    "print(q1)\n",
    "\n",
    "print(\"Probability of heartdisease with evidence cp : 2\")\n",
    "q2 = infer.query(variables = ['heartdisease'], evidence = {'cp' : 2})\n",
    "print(q2)"
   ]
  },
  {
   "cell_type": "code",
   "execution_count": null,
   "id": "b51271d7",
   "metadata": {},
   "outputs": [],
   "source": []
  },
  {
   "cell_type": "code",
   "execution_count": null,
   "id": "1ff59964",
   "metadata": {},
   "outputs": [],
   "source": []
  }
 ],
 "metadata": {
  "kernelspec": {
   "display_name": "Python 3",
   "language": "python",
   "name": "python3"
  },
  "language_info": {
   "codemirror_mode": {
    "name": "ipython",
    "version": 3
   },
   "file_extension": ".py",
   "mimetype": "text/x-python",
   "name": "python",
   "nbconvert_exporter": "python",
   "pygments_lexer": "ipython3",
   "version": "3.8.8"
  }
 },
 "nbformat": 4,
 "nbformat_minor": 5
}
