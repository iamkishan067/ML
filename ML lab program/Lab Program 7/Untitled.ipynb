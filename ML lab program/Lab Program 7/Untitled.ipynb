{
 "cells": [
  {
   "cell_type": "code",
   "execution_count": null,
   "id": "a0132aac",
   "metadata": {},
   "outputs": [],
   "source": [
    "import pandas as pd\n",
    "import numpy as np\n",
    "\n",
    "data = pd.read_csv('lab7_data.csv')\n",
    "data = data.replace('?',np.nan)\n",
    "\n",
    "print('Sample instances from the dataset are given below')\n",
    "print(data.head())\n",
    "\n",
    "print('\\n Attributes and datatypes')\n",
    "print(data.dtypes)\n",
    "\n",
    "\n",
    "\n",
    "from pgmpy.models import BayesianModel\n",
    "from pgmpy.estimators import MaximumLikelihoodEstimator\n",
    "from pgmpy.inference import VariableElimination\n",
    "\n",
    "\n",
    "model =BayesianModel([('age','heartdisease'),('sex','heartdisease'),\n",
    "                      ('exang','heartdisease'),('cp','heartdisease'),\n",
    "                      ('heartdisease','restecg'),('heartdisease','chol')])\n",
    "import networkx as nx\n",
    "import matplotlib.pyplot as plt\n",
    "nx.draw(model, with_labels = True); \n",
    "plt.show()\n",
    "\n",
    "\n",
    "print('\\n Learning CPD using Maximum likelihood estimators')\n",
    "model.fit(data,estimator=MaximumLikelihoodEstimator)\n",
    "\n",
    "\n",
    "print('\\n Inferencing with Bayesian Network:')\n",
    "infer = VariableElimination(model)\n",
    "\n",
    "\n",
    "print('\\n 1.Probability of HeartDisease given evidence=restecg :1')\n",
    "q1=infer.query(variables=['heartdisease'],evidence={'restecg':1})\n",
    "print(q1)\n",
    "\n",
    "\n",
    "print('\\n 2.Probability of HeartDisease given evidence= cp:2 ')\n",
    "q2=infer.query(variables=['heartdisease'],evidence={'cp':2})\n",
    "print(q2)"
   ]
  }
 ],
 "metadata": {
  "kernelspec": {
   "display_name": "Python 3",
   "language": "python",
   "name": "python3"
  },
  "language_info": {
   "codemirror_mode": {
    "name": "ipython",
    "version": 3
   },
   "file_extension": ".py",
   "mimetype": "text/x-python",
   "name": "python",
   "nbconvert_exporter": "python",
   "pygments_lexer": "ipython3",
   "version": "3.8.8"
  }
 },
 "nbformat": 4,
 "nbformat_minor": 5
}
