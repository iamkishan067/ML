{
 "cells": [
  {
   "cell_type": "code",
   "execution_count": 22,
   "id": "2de90dd8",
   "metadata": {},
   "outputs": [
    {
     "name": "stdout",
     "output_type": "stream",
     "text": [
      "The number of instances in the data set =  18\n",
      "\n",
      "Training instances count =  13\n",
      "\n",
      "Testing instances count =  5\n",
      "\n",
      "Number of feature extracted =  46\n",
      "\n",
      "List of the extracted feature = \n",
      " ['am', 'an', 'and', 'awesome', 'bad', 'best', 'can', 'dance', 'deal', 'do', 'enemy', 'fun', 'good', 'great', 'have', 'he', 'holiday', 'house', 'is', 'juice', 'like', 'locality', 'love', 'my', 'not', 'of', 'place', 'restaurant', 'sick', 'stay', 'stuff', 'sworn', 'taste', 'that', 'the', 'this', 'tired', 'to', 'today', 'tomorrow', 'we', 'went', 'what', 'will', 'with', 'work']\n",
      "\n",
      "Accuracy score =  1.0\n",
      "\n",
      "Precision score =  1.0\n",
      "\n",
      "Recall score =  1.0\n",
      "================================\n",
      "\n",
      "Confusion matrix = \n",
      " [[1 0]\n",
      " [0 4]]\n"
     ]
    }
   ],
   "source": [
    "import pandas as pd\n",
    "\n",
    "df = pd.read_csv(\"lab6_data.csv\", names = ['message', 'label'])\n",
    "print(\"The number of instances in the data set = \", df.shape[0])\n",
    "df['labelnum'] = df.label.map({'pos' : 1, 'neg' : 0})\n",
    "\n",
    "X = df.message\n",
    "Y = df.labelnum\n",
    "\n",
    "from sklearn.model_selection import train_test_split\n",
    "xtrain, xtest, ytrain, ytest = train_test_split(X, Y)\n",
    "\n",
    "print(\"\\nTraining instances count = \", ytrain.shape[0])\n",
    "print(\"\\nTesting instances count = \", ytest.shape[0])\n",
    "\n",
    "from sklearn.feature_extraction.text import CountVectorizer\n",
    "countVector = CountVectorizer()\n",
    "xtrain_dtm = countVector.fit_transform(xtrain)\n",
    "xtest_dtm = countVector.transform(xtest)\n",
    "\n",
    "print(\"\\nNumber of feature extracted = \", xtrain_dtm.shape[1])\n",
    "\n",
    "print(\"\\nList of the extracted feature = \\n\", countVector.get_feature_names())\n",
    "\n",
    "# from sklearn.naive_bayes import MultinomialNB\n",
    "# clf = MultinomialNB().fit(xtrain_dtm, ytrain)\n",
    "# predicted = clf.predict(xtest_dtm)\n",
    "\n",
    "from sklearn.naive_bayes import MultinomialNB\n",
    "clf = MultinomialNB().fit(xtrain_dtm,ytrain) \n",
    "predicted = clf.predict(xtest_dtm)\n",
    "\n",
    "\n",
    "from sklearn import metrics\n",
    "print(\"\\nAccuracy score = \", metrics.accuracy_score(ytest, predicted))\n",
    "print(\"\\nPrecision score = \", metrics.precision_score(ytest, predicted))\n",
    "print(\"\\nRecall score = \", metrics.recall_score(ytest, predicted))\n",
    "print(\"================================\")\n",
    "print(\"\\nConfusion matrix = \\n\", metrics.confusion_matrix(ytest, predicted))\n"
   ]
  },
  {
   "cell_type": "code",
   "execution_count": null,
   "id": "b678e853",
   "metadata": {},
   "outputs": [],
   "source": []
  },
  {
   "cell_type": "code",
   "execution_count": null,
   "id": "da1e4a13",
   "metadata": {},
   "outputs": [],
   "source": []
  }
 ],
 "metadata": {
  "kernelspec": {
   "display_name": "Python 3",
   "language": "python",
   "name": "python3"
  },
  "language_info": {
   "codemirror_mode": {
    "name": "ipython",
    "version": 3
   },
   "file_extension": ".py",
   "mimetype": "text/x-python",
   "name": "python",
   "nbconvert_exporter": "python",
   "pygments_lexer": "ipython3",
   "version": "3.8.8"
  }
 },
 "nbformat": 4,
 "nbformat_minor": 5
}
