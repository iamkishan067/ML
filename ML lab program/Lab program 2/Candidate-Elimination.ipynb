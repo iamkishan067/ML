{
 "cells": [
  {
   "cell_type": "code",
   "execution_count": 1,
   "metadata": {
    "scrolled": true
   },
   "outputs": [
    {
     "name": "stdout",
     "output_type": "stream",
     "text": [
      "Training data\n",
      "['sunny', 'warm', 'normal', 'strong ', 'warm ', 'same ', 'yes']\n",
      "['sunny', 'warm ', 'high', 'strong ', 'warm ', 'same ', 'yes']\n",
      "['rainy', 'cold', 'high', 'strong ', 'warm ', 'change', 'no']\n",
      "['sunny', 'warm ', 'high', 'strong ', 'cool', 'change', 'yes']\n",
      "--------------------------------------\n",
      "The Hypothesis are\n",
      "S= ['0', '0', '0', '0', '0', '0']\n",
      "G= ['?', '?', '?', '?', '?', '?']\n",
      "--------------------------------------\n",
      "S= ['sunny', 'warm', 'normal', 'strong ', 'warm ', 'same ']\n",
      "G= ['?', '?', '?', '?', '?', '?']\n",
      "-----------------------------------\n",
      "S= ['sunny', '?', '?', 'strong ', 'warm ', 'same ']\n",
      "G= ['?', '?', '?', '?', '?', '?']\n",
      "-----------------------------------\n",
      "S= ['sunny', '?', '?', 'strong ', 'warm ', 'same ']\n",
      "G= [['sunny', '?', '?', '?', '?', '?'], ['?', '?', '?', '?', '?', 'same ']]\n",
      "-----------------------------------\n",
      "S= ['sunny', '?', '?', 'strong ', '?', '?']\n",
      "G= [['sunny', '?', '?', '?', '?', '?']]\n",
      "-----------------------------------\n"
     ]
    }
   ],
   "source": [
    "import csv\n",
    "with open('enjoysport.csv', 'r') as f:\n",
    "    reader = csv.reader(f)\n",
    "    data = list(reader)\n",
    "#Training data from CSV file\n",
    "print(\"Training data\")\n",
    "for row in data:\n",
    "    print(row)\n",
    "print(\"--------------------------------------\")\n",
    "\n",
    "attr_len=len(data[0])-1\n",
    "#initialize Specific and General Hypothesis\n",
    "S = ['0']*attr_len\n",
    "G = ['?']*attr_len\n",
    "temp=[] # altered G\n",
    "\n",
    "print(\"The Hypothesis are\")\n",
    "print(\"S=\",S)\n",
    "print(\"G=\",G)\n",
    "print(\"--------------------------------------\")\n",
    "for row in data:\n",
    "    if row[-1] == 'yes':\n",
    "        j = 0\n",
    "        for col in row:\n",
    "            if col != 'yes':\n",
    "                if col != S[j] and S[j] == '0':\n",
    "                    S[j] = col\n",
    "                elif col != S[j] and S[j] != '0':\n",
    "                    S[j] = '?'\n",
    "            j = j + 1\n",
    "        \n",
    "        for j in range(0,attr_len):\n",
    "            for k in temp:\n",
    "                if k[j] != S[j] and k[j] != '?':\n",
    "                    temp.remove(k)\n",
    "    if row[-1]=='no':\n",
    "        j = 0\n",
    "        for col in row:\n",
    "            if col != 'no':\n",
    "                if col!= S[j] and S[j] != '?':\n",
    "                    G[j]=S[j]\n",
    "                    temp.append(G)\n",
    "                    G=['?']*attr_len\n",
    "            j =j + 1\n",
    "    print(\"S=\",S) \n",
    "    if len(temp)==0:\n",
    "        print(\"G=\",G)\n",
    "    else:\n",
    "        print(\"G=\",temp)\n",
    "    print('-----------------------------------')"
   ]
  },
  {
   "cell_type": "code",
   "execution_count": 2,
   "metadata": {},
   "outputs": [
    {
     "name": "stdout",
     "output_type": "stream",
     "text": [
      "Training data\n",
      "['sunny', 'warm', 'normal', 'strong ', 'warm ', 'same ', 'yes']\n",
      "['sunny', 'warm ', 'high', 'strong ', 'warm ', 'same ', 'yes']\n",
      "['rainy', 'cold', 'high', 'strong ', 'warm ', 'change', 'no']\n",
      "['sunny', 'warm ', 'high', 'strong ', 'cool', 'change', 'yes']\n",
      "--------------------------------------\n"
     ]
    }
   ],
   "source": [
    "import csv\n",
    "with open('enjoysport.csv', 'r') as f:\n",
    "    reader = csv.reader(f)\n",
    "    data = list(reader)\n",
    "#Training data from CSV file\n",
    "print(\"Training data\")\n",
    "for row in data:\n",
    "    print(row)\n",
    "print(\"--------------------------------------\")"
   ]
  },
  {
   "cell_type": "code",
   "execution_count": 3,
   "metadata": {},
   "outputs": [
    {
     "name": "stdout",
     "output_type": "stream",
     "text": [
      "The Hypothesis are\n",
      "S= ['0', '0', '0', '0', '0', '0']\n",
      "G= ['?', '?', '?', '?', '?', '?']\n",
      "--------------------------------------\n"
     ]
    }
   ],
   "source": [
    "attr_len=len(data[0])-1\n",
    "#initialize Specific and General Hypothesis\n",
    "S = ['0']*attr_len\n",
    "G = ['?']*attr_len\n",
    "temp=[] # altered G\n",
    "\n",
    "print(\"The Hypothesis are\")\n",
    "print(\"S=\",S)\n",
    "print(\"G=\",G)\n",
    "print(\"--------------------------------------\")"
   ]
  },
  {
   "cell_type": "code",
   "execution_count": 4,
   "metadata": {},
   "outputs": [
    {
     "name": "stdout",
     "output_type": "stream",
     "text": [
      "S= ['sunny', 'warm', 'normal', 'strong ', 'warm ', 'same ']\n",
      "G= ['?', '?', '?', '?', '?', '?']\n",
      "-----------------------------------\n",
      "S= ['sunny', '?', '?', 'strong ', 'warm ', 'same ']\n",
      "G= ['?', '?', '?', '?', '?', '?']\n",
      "-----------------------------------\n",
      "S= ['sunny', '?', '?', 'strong ', 'warm ', 'same ']\n",
      "G= [['sunny', '?', '?', '?', '?', '?'], ['?', '?', '?', '?', '?', 'same ']]\n",
      "-----------------------------------\n",
      "S= ['sunny', '?', '?', 'strong ', '?', '?']\n",
      "G= [['sunny', '?', '?', '?', '?', '?']]\n",
      "-----------------------------------\n"
     ]
    }
   ],
   "source": [
    "for row in data:\n",
    "    if row[-1] == 'yes':\n",
    "        j = 0\n",
    "        for col in row:\n",
    "            if col != 'yes':\n",
    "                if col != S[j] and S[j] == '0':\n",
    "                    S[j] = col\n",
    "                elif col != S[j] and S[j] != '0':\n",
    "                    S[j] = '?'\n",
    "            j = j + 1\n",
    "        \n",
    "        for j in range(0,attr_len):\n",
    "            for k in temp:\n",
    "                if k[j] != S[j] and k[j] != '?':\n",
    "                    temp.remove(k)\n",
    "    if row[-1]=='no':\n",
    "        j = 0\n",
    "        for col in row:\n",
    "            if col != 'no':\n",
    "                if col!= S[j] and S[j] != '?':\n",
    "                    G[j]=S[j]\n",
    "                    temp.append(G)\n",
    "                    G=['?']*attr_len\n",
    "            j =j + 1\n",
    "    print(\"S=\",S) \n",
    "    if len(temp)==0:\n",
    "        print(\"G=\",G)\n",
    "    else:\n",
    "        print(\"G=\",temp)\n",
    "    print('-----------------------------------')"
   ]
  },
  {
   "cell_type": "code",
   "execution_count": null,
   "metadata": {},
   "outputs": [],
   "source": []
  },
  {
   "cell_type": "code",
   "execution_count": null,
   "metadata": {},
   "outputs": [],
   "source": []
  }
 ],
 "metadata": {
  "kernelspec": {
   "display_name": "Python 3",
   "language": "python",
   "name": "python3"
  },
  "language_info": {
   "codemirror_mode": {
    "name": "ipython",
    "version": 3
   },
   "file_extension": ".py",
   "mimetype": "text/x-python",
   "name": "python",
   "nbconvert_exporter": "python",
   "pygments_lexer": "ipython3",
   "version": "3.8.8"
  }
 },
 "nbformat": 4,
 "nbformat_minor": 4
}
