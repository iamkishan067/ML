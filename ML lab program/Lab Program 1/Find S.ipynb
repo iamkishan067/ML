{
 "cells": [
  {
   "cell_type": "code",
   "execution_count": 9,
   "id": "8798ebef",
   "metadata": {},
   "outputs": [
    {
     "name": "stdout",
     "output_type": "stream",
     "text": [
      "Training data\n",
      "['sunny', 'warm', 'normal', 'strong', 'warm', 'same', 'yes']\n",
      "['sunny', 'warm', 'high', 'strong', 'warm', 'same', 'yes']\n",
      "['rainy', 'cold', 'high', 'strong', 'warm', 'change', 'no']\n",
      "['sunny', 'warm', 'high', 'strong', 'cool', 'change', 'yes']\n",
      "h= ['0', '0', '0', '0', '0', '0']\n",
      "The Hypothesis are\n",
      "h 0 = ['sunny', 'warm', 'normal', 'strong', 'warm', 'same']\n",
      "h 1 = ['sunny', 'warm', '?', 'strong', 'warm', 'same']\n",
      "h 2 = ['sunny', 'warm', '?', 'strong', 'warm', 'same']\n",
      "h 3 = ['sunny', 'warm', '?', 'strong', '?', '?']\n",
      "Maximally Specific Hypothesis: \n",
      " h 3 = ['sunny', 'warm', '?', 'strong', '?', '?']\n"
     ]
    }
   ],
   "source": [
    "#read training data from csv file\n",
    "import csv\n",
    "with open('enjoysport.csv', 'r') as f:\n",
    "    reader = csv.reader(f)\n",
    "    data = list(reader) #convert data into list of rows\n",
    "#Training data from CSV file\n",
    "print(\"Training data\")\n",
    "for row in data:\n",
    "    print(row)\n",
    "attr_len=len(data[0])-1\n",
    "h = ['0']*attr_len # Initialize h to the most specific hypothesis in H\n",
    "print(\"h=\",h)\n",
    "k=0\n",
    "print(\"The Hypothesis are\")\n",
    "for row in data:\n",
    "    if row[-1] == 'yes': #For each positive training instance x\n",
    "        j = 0\n",
    "        for col in row: #For each attribute constraint a, in h\n",
    "            #print(col)\n",
    "            if col != 'yes': #replace a, in h by the next more general constraint that is satisfied by x\n",
    "                if col != h[j] and h[j] == '0':\n",
    "                    h[j] = col\n",
    "                elif col != h[j] and h[j] != '0':\n",
    "                    h[j] = '?'\n",
    "                  \n",
    "            j = j + 1\n",
    "    print(\"h\",k,\"=\",h) #print all Hypothesis\n",
    "    k=k+1\n",
    "print('Maximally Specific Hypothesis: \\n',\"h\",k-1,\"=\", h)#print final hypothesis"
   ]
  },
  {
   "cell_type": "code",
   "execution_count": 7,
   "id": "10da5727",
   "metadata": {},
   "outputs": [
    {
     "name": "stdout",
     "output_type": "stream",
     "text": [
      "9\n"
     ]
    }
   ],
   "source": [
    "k = [0, 3, 5, 9]\n",
    "print(k[-1])"
   ]
  },
  {
   "cell_type": "code",
   "execution_count": null,
   "id": "cad3868a",
   "metadata": {},
   "outputs": [],
   "source": []
  }
 ],
 "metadata": {
  "kernelspec": {
   "display_name": "Python 3",
   "language": "python",
   "name": "python3"
  },
  "language_info": {
   "codemirror_mode": {
    "name": "ipython",
    "version": 3
   },
   "file_extension": ".py",
   "mimetype": "text/x-python",
   "name": "python",
   "nbconvert_exporter": "python",
   "pygments_lexer": "ipython3",
   "version": "3.8.8"
  }
 },
 "nbformat": 4,
 "nbformat_minor": 5
}
