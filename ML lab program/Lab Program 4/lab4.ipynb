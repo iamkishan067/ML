{
 "cells": [
  {
   "cell_type": "code",
   "execution_count": 11,
   "id": "6842001c",
   "metadata": {},
   "outputs": [
    {
     "name": "stdout",
     "output_type": "stream",
     "text": [
      "Input =  [[0.66666667 1.        ]\n",
      " [0.33333333 0.55555556]\n",
      " [1.         0.66666667]]\n",
      "\n",
      "Actual Output : \n",
      " [[0.92]\n",
      " [0.86]\n",
      " [0.89]]\n",
      "\n",
      "Pridicted Output : \n",
      " [[0.92450723]\n",
      " [0.91450808]\n",
      " [0.92590201]]\n"
     ]
    }
   ],
   "source": [
    "## Backpropagation Algorithm\n",
    "\n",
    "import numpy as np\n",
    "\n",
    "X = np.array(([2,9], [1,5], [3,6]), dtype = float)\n",
    "Y = np.array(([92], [86], [89]), dtype = float)\n",
    "\n",
    "X = X / np.amax(X, axis = 0)\n",
    "Y = Y / 100\n",
    "\n",
    "def sigmoid(x):\n",
    "    return 1/(1 + np.exp(-x))\n",
    "\n",
    "def derivative_sigmoid(x):\n",
    "    return x * ( 1 - x)\n",
    "\n",
    "epoch = 5\n",
    "lr = 0.1\n",
    "\n",
    "inputlayer_neurons = 2\n",
    "hiddenlayer_neurons = 3\n",
    "output_neurons = 1\n",
    "\n",
    "wh = np.random.uniform(size = (inputlayer_neurons,hiddenlayer_neurons))\n",
    "bh = np.random.uniform(size = (1,hiddenlayer_neurons))\n",
    "wout = np.random.uniform(size = (hiddenlayer_neurons,output_neurons))\n",
    "bout = np.random.uniform(size = (1,output_neurons))\n",
    "\n",
    "for i in range(epoch):\n",
    "#     //Forward Propagation\n",
    "    hinp1 = np.dot(X, wh)\n",
    "    hinp = hinp1 + bh\n",
    "    hlayer_act = sigmoid(hinp)\n",
    "    outinp1 = np.dot(hlayer_act, wout)\n",
    "    outinp = outinp1 + bout\n",
    "    output = sigmoid(outinp)\n",
    "    \n",
    "#     //Backward Propagation\n",
    "    EO = Y - output\n",
    "    outgrad = derivative_sigmoid(output)\n",
    "    d_output = EO * outgrad\n",
    "    EH = d_output.dot(wout.T)\n",
    "    hiddengrad = derivative_sigmoid(hlayer_act)\n",
    "    d_hiddenlayer = EH * hiddengrad\n",
    "    \n",
    "    \n",
    "    \n",
    "#     //weights updation \n",
    "    wout += hlayer_act.T.dot(d_output) * lr\n",
    "    bout += np.sum(d_output, axis = 0, keepdims = True) * lr\n",
    "    wh += X.T.dot(d_hiddenlayer)*lr\n",
    "    bh += np.sum(d_hiddenlayer, axis = 0, keepdims = True)\n",
    "\n",
    "    \n",
    "print(\"Input = \", X)\n",
    "print(\"\\nActual Output : \\n\", Y)\n",
    "print(\"\\nPridicted Output : \\n\", output)\n"
   ]
  },
  {
   "cell_type": "code",
   "execution_count": null,
   "id": "dd04e6b6",
   "metadata": {},
   "outputs": [],
   "source": []
  }
 ],
 "metadata": {
  "kernelspec": {
   "display_name": "Python 3",
   "language": "python",
   "name": "python3"
  },
  "language_info": {
   "codemirror_mode": {
    "name": "ipython",
    "version": 3
   },
   "file_extension": ".py",
   "mimetype": "text/x-python",
   "name": "python",
   "nbconvert_exporter": "python",
   "pygments_lexer": "ipython3",
   "version": "3.8.8"
  }
 },
 "nbformat": 4,
 "nbformat_minor": 5
}
